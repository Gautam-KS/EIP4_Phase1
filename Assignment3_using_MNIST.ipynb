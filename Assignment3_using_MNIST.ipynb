{
  "nbformat": 4,
  "nbformat_minor": 0,
  "metadata": {
    "colab": {
      "name": "Assignment3_using_MNIST.ipynb",
      "provenance": []
    },
    "kernelspec": {
      "name": "python3",
      "display_name": "Python 3"
    }
  },
  "cells": [
    {
      "cell_type": "code",
      "metadata": {
        "id": "Kkz2p68gruA7",
        "colab_type": "code",
        "colab": {}
      },
      "source": [
        "import keras\n",
        "from keras.datasets import mnist\n",
        "from keras.models import Sequential\n",
        "from keras.layers import Dense, Dropout, Flatten\n",
        "from keras.layers import SeparableConv2D, MaxPooling2D\n",
        "from keras import backend as K"
      ],
      "execution_count": 0,
      "outputs": []
    },
    {
      "cell_type": "code",
      "metadata": {
        "id": "sYQOMOPir1ZF",
        "colab_type": "code",
        "colab": {}
      },
      "source": [
        "# Model configuration\n",
        "img_width, img_height = 28, 28\n",
        "batch_size = 250\n",
        "no_epochs = 50\n",
        "no_classes = 10\n",
        "validation_split = 0.2\n",
        "verbosity = 1"
      ],
      "execution_count": 0,
      "outputs": []
    },
    {
      "cell_type": "code",
      "metadata": {
        "id": "FjHCcG8sr88P",
        "colab_type": "code",
        "colab": {}
      },
      "source": [
        "(input_train, target_train), (input_test, target_test) = mnist.load_data()"
      ],
      "execution_count": 0,
      "outputs": []
    },
    {
      "cell_type": "code",
      "metadata": {
        "id": "eBdyjkx_sJEC",
        "colab_type": "code",
        "colab": {}
      },
      "source": [
        "if K.image_data_format() == 'channels_first':\n",
        "    input_train = input_train.reshape(input_train.shape[0], 1, img_width, img_height)\n",
        "    input_test = input_test.reshape(input_test.shape[0], 1, img_width, img_height)\n",
        "    input_shape = (1, img_width, img_height)\n",
        "else:\n",
        "    input_train = input_train.reshape(input_train.shape[0], img_width, img_height, 1)\n",
        "    input_test = input_test.reshape(input_test.shape[0], img_width, img_height, 1)\n",
        "    input_shape = (img_width, img_height, 1)"
      ],
      "execution_count": 0,
      "outputs": []
    },
    {
      "cell_type": "code",
      "metadata": {
        "id": "9CGRoGQ6sVLT",
        "colab_type": "code",
        "colab": {}
      },
      "source": [
        "# Parse numbers as floats\n",
        "input_train = input_train.astype('float32')\n",
        "input_test = input_test.astype('float32')"
      ],
      "execution_count": 0,
      "outputs": []
    },
    {
      "cell_type": "code",
      "metadata": {
        "id": "oYuVXz1Msdgq",
        "colab_type": "code",
        "colab": {}
      },
      "source": [
        "# Convert them into black or white: [0, 1].\n",
        "input_train = input_train / 255\n",
        "input_test = input_test / 255"
      ],
      "execution_count": 0,
      "outputs": []
    },
    {
      "cell_type": "code",
      "metadata": {
        "id": "hNOVmW-6sjaK",
        "colab_type": "code",
        "colab": {}
      },
      "source": [
        "# Convert target vectors to categorical targets\n",
        "target_train = keras.utils.to_categorical(target_train, no_classes)\n",
        "target_test = keras.utils.to_categorical(target_test, no_classes)"
      ],
      "execution_count": 0,
      "outputs": []
    },
    {
      "cell_type": "code",
      "metadata": {
        "id": "2ZbTcKDgsqNz",
        "colab_type": "code",
        "colab": {}
      },
      "source": [
        "# Create the model\n",
        "model = Sequential()\n",
        "model.add(SeparableConv2D(32, kernel_size=(3, 3), activation='relu', input_shape=input_shape))\n",
        "model.add(MaxPooling2D(pool_size=(2, 2)))\n",
        "model.add(Dropout(0.25))\n",
        "model.add(SeparableConv2D(64, kernel_size=(3, 3), activation='relu'))\n",
        "model.add(MaxPooling2D(pool_size=(2, 2)))\n",
        "model.add(Dropout(0.25))\n",
        "model.add(Flatten())\n",
        "model.add(Dense(256, activation='relu'))\n",
        "model.add(Dense(no_classes, activation='softmax'))"
      ],
      "execution_count": 0,
      "outputs": []
    },
    {
      "cell_type": "code",
      "metadata": {
        "id": "685nfhJXszEX",
        "colab_type": "code",
        "colab": {}
      },
      "source": [
        "# Compile the model\n",
        "model.compile(loss=keras.losses.categorical_crossentropy,\n",
        "              optimizer=keras.optimizers.Adam(),\n",
        "              metrics=['accuracy'])"
      ],
      "execution_count": 0,
      "outputs": []
    },
    {
      "cell_type": "code",
      "metadata": {
        "id": "tonEZpars8lJ",
        "colab_type": "code",
        "colab": {
          "base_uri": "https://localhost:8080/",
          "height": 1000
        },
        "outputId": "144ee920-9bec-40bd-d6f2-c283bbb4c03c"
      },
      "source": [
        "# Fit data to model\n",
        "model.fit(input_train, target_train,\n",
        "          batch_size=batch_size,\n",
        "          epochs=no_epochs,\n",
        "          verbose=verbosity,\n",
        "          validation_split=validation_split)"
      ],
      "execution_count": 27,
      "outputs": [
        {
          "output_type": "stream",
          "text": [
            "Train on 48000 samples, validate on 12000 samples\n",
            "Epoch 1/50\n",
            "48000/48000 [==============================] - 34s 715us/step - loss: 0.6599 - acc: 0.8111 - val_loss: 0.2124 - val_acc: 0.9376\n",
            "Epoch 2/50\n",
            "48000/48000 [==============================] - 34s 719us/step - loss: 0.2025 - acc: 0.9382 - val_loss: 0.1184 - val_acc: 0.9658\n",
            "Epoch 3/50\n",
            "48000/48000 [==============================] - 34s 715us/step - loss: 0.1412 - acc: 0.9564 - val_loss: 0.0892 - val_acc: 0.9733\n",
            "Epoch 4/50\n",
            "48000/48000 [==============================] - 34s 710us/step - loss: 0.1160 - acc: 0.9632 - val_loss: 0.0746 - val_acc: 0.9778\n",
            "Epoch 5/50\n",
            "48000/48000 [==============================] - 34s 707us/step - loss: 0.0985 - acc: 0.9681 - val_loss: 0.0664 - val_acc: 0.9812\n",
            "Epoch 6/50\n",
            "48000/48000 [==============================] - 34s 713us/step - loss: 0.0877 - acc: 0.9717 - val_loss: 0.0595 - val_acc: 0.9825\n",
            "Epoch 7/50\n",
            "48000/48000 [==============================] - 34s 705us/step - loss: 0.0775 - acc: 0.9758 - val_loss: 0.0541 - val_acc: 0.9841\n",
            "Epoch 8/50\n",
            "48000/48000 [==============================] - 34s 706us/step - loss: 0.0690 - acc: 0.9780 - val_loss: 0.0538 - val_acc: 0.9838\n",
            "Epoch 9/50\n",
            "48000/48000 [==============================] - 34s 711us/step - loss: 0.0631 - acc: 0.9799 - val_loss: 0.0506 - val_acc: 0.9848\n",
            "Epoch 10/50\n",
            "48000/48000 [==============================] - 34s 716us/step - loss: 0.0570 - acc: 0.9819 - val_loss: 0.0456 - val_acc: 0.9856\n",
            "Epoch 11/50\n",
            "48000/48000 [==============================] - 35s 720us/step - loss: 0.0524 - acc: 0.9832 - val_loss: 0.0457 - val_acc: 0.9867\n",
            "Epoch 12/50\n",
            "48000/48000 [==============================] - 34s 718us/step - loss: 0.0504 - acc: 0.9839 - val_loss: 0.0407 - val_acc: 0.9875\n",
            "Epoch 13/50\n",
            "48000/48000 [==============================] - 34s 717us/step - loss: 0.0459 - acc: 0.9850 - val_loss: 0.0448 - val_acc: 0.9866\n",
            "Epoch 14/50\n",
            "48000/48000 [==============================] - 35s 725us/step - loss: 0.0431 - acc: 0.9861 - val_loss: 0.0419 - val_acc: 0.9882\n",
            "Epoch 15/50\n",
            "48000/48000 [==============================] - 35s 722us/step - loss: 0.0402 - acc: 0.9865 - val_loss: 0.0379 - val_acc: 0.9892\n",
            "Epoch 16/50\n",
            "48000/48000 [==============================] - 34s 713us/step - loss: 0.0381 - acc: 0.9871 - val_loss: 0.0378 - val_acc: 0.9888\n",
            "Epoch 17/50\n",
            "48000/48000 [==============================] - 34s 710us/step - loss: 0.0343 - acc: 0.9885 - val_loss: 0.0382 - val_acc: 0.9892\n",
            "Epoch 18/50\n",
            "48000/48000 [==============================] - 34s 705us/step - loss: 0.0339 - acc: 0.9887 - val_loss: 0.0378 - val_acc: 0.9896\n",
            "Epoch 19/50\n",
            "48000/48000 [==============================] - 35s 722us/step - loss: 0.0325 - acc: 0.9895 - val_loss: 0.0418 - val_acc: 0.9882\n",
            "Epoch 20/50\n",
            "48000/48000 [==============================] - 34s 712us/step - loss: 0.0297 - acc: 0.9902 - val_loss: 0.0399 - val_acc: 0.9891\n",
            "Epoch 21/50\n",
            "48000/48000 [==============================] - 34s 709us/step - loss: 0.0283 - acc: 0.9906 - val_loss: 0.0399 - val_acc: 0.9880\n",
            "Epoch 22/50\n",
            "48000/48000 [==============================] - 34s 708us/step - loss: 0.0255 - acc: 0.9912 - val_loss: 0.0391 - val_acc: 0.9882\n",
            "Epoch 23/50\n",
            "48000/48000 [==============================] - 34s 711us/step - loss: 0.0249 - acc: 0.9917 - val_loss: 0.0426 - val_acc: 0.9879\n",
            "Epoch 24/50\n",
            "48000/48000 [==============================] - 34s 710us/step - loss: 0.0244 - acc: 0.9914 - val_loss: 0.0408 - val_acc: 0.9882\n",
            "Epoch 25/50\n",
            "48000/48000 [==============================] - 34s 710us/step - loss: 0.0233 - acc: 0.9922 - val_loss: 0.0401 - val_acc: 0.9897\n",
            "Epoch 26/50\n",
            "48000/48000 [==============================] - 34s 714us/step - loss: 0.0219 - acc: 0.9924 - val_loss: 0.0421 - val_acc: 0.9877\n",
            "Epoch 27/50\n",
            "48000/48000 [==============================] - 34s 708us/step - loss: 0.0219 - acc: 0.9925 - val_loss: 0.0414 - val_acc: 0.9879\n",
            "Epoch 28/50\n",
            "48000/48000 [==============================] - 35s 719us/step - loss: 0.0191 - acc: 0.9937 - val_loss: 0.0410 - val_acc: 0.9885\n",
            "Epoch 29/50\n",
            "48000/48000 [==============================] - 34s 708us/step - loss: 0.0193 - acc: 0.9930 - val_loss: 0.0396 - val_acc: 0.9892\n",
            "Epoch 30/50\n",
            "48000/48000 [==============================] - 34s 708us/step - loss: 0.0167 - acc: 0.9945 - val_loss: 0.0392 - val_acc: 0.9889\n",
            "Epoch 31/50\n",
            "48000/48000 [==============================] - 34s 711us/step - loss: 0.0181 - acc: 0.9938 - val_loss: 0.0420 - val_acc: 0.9894\n",
            "Epoch 32/50\n",
            "48000/48000 [==============================] - 34s 708us/step - loss: 0.0180 - acc: 0.9939 - val_loss: 0.0401 - val_acc: 0.9892\n",
            "Epoch 33/50\n",
            "48000/48000 [==============================] - 34s 708us/step - loss: 0.0169 - acc: 0.9940 - val_loss: 0.0471 - val_acc: 0.9880\n",
            "Epoch 34/50\n",
            "48000/48000 [==============================] - 35s 724us/step - loss: 0.0149 - acc: 0.9945 - val_loss: 0.0397 - val_acc: 0.9893\n",
            "Epoch 35/50\n",
            "48000/48000 [==============================] - 36s 741us/step - loss: 0.0144 - acc: 0.9949 - val_loss: 0.0445 - val_acc: 0.9887\n",
            "Epoch 36/50\n",
            "48000/48000 [==============================] - 35s 739us/step - loss: 0.0159 - acc: 0.9944 - val_loss: 0.0428 - val_acc: 0.9892\n",
            "Epoch 37/50\n",
            "48000/48000 [==============================] - 38s 784us/step - loss: 0.0157 - acc: 0.9944 - val_loss: 0.0440 - val_acc: 0.9891\n",
            "Epoch 38/50\n",
            "48000/48000 [==============================] - 35s 723us/step - loss: 0.0144 - acc: 0.9947 - val_loss: 0.0479 - val_acc: 0.9882\n",
            "Epoch 39/50\n",
            "48000/48000 [==============================] - 34s 699us/step - loss: 0.0131 - acc: 0.9953 - val_loss: 0.0425 - val_acc: 0.9892\n",
            "Epoch 40/50\n",
            "48000/48000 [==============================] - 34s 707us/step - loss: 0.0136 - acc: 0.9955 - val_loss: 0.0474 - val_acc: 0.9884\n",
            "Epoch 41/50\n",
            "48000/48000 [==============================] - 34s 705us/step - loss: 0.0129 - acc: 0.9953 - val_loss: 0.0479 - val_acc: 0.9889\n",
            "Epoch 42/50\n",
            "48000/48000 [==============================] - 34s 708us/step - loss: 0.0133 - acc: 0.9956 - val_loss: 0.0449 - val_acc: 0.9904\n",
            "Epoch 43/50\n",
            "48000/48000 [==============================] - 34s 703us/step - loss: 0.0115 - acc: 0.9962 - val_loss: 0.0445 - val_acc: 0.9902\n",
            "Epoch 44/50\n",
            "48000/48000 [==============================] - 34s 706us/step - loss: 0.0106 - acc: 0.9964 - val_loss: 0.0418 - val_acc: 0.9909\n",
            "Epoch 45/50\n",
            "48000/48000 [==============================] - 34s 707us/step - loss: 0.0102 - acc: 0.9964 - val_loss: 0.0467 - val_acc: 0.9893\n",
            "Epoch 46/50\n",
            "48000/48000 [==============================] - 34s 704us/step - loss: 0.0114 - acc: 0.9960 - val_loss: 0.0457 - val_acc: 0.9895\n",
            "Epoch 47/50\n",
            "48000/48000 [==============================] - 34s 704us/step - loss: 0.0108 - acc: 0.9962 - val_loss: 0.0467 - val_acc: 0.9899\n",
            "Epoch 48/50\n",
            "48000/48000 [==============================] - 33s 698us/step - loss: 0.0095 - acc: 0.9966 - val_loss: 0.0450 - val_acc: 0.9900\n",
            "Epoch 49/50\n",
            "48000/48000 [==============================] - 34s 711us/step - loss: 0.0102 - acc: 0.9964 - val_loss: 0.0475 - val_acc: 0.9897\n",
            "Epoch 50/50\n",
            "48000/48000 [==============================] - 35s 725us/step - loss: 0.0105 - acc: 0.9961 - val_loss: 0.0505 - val_acc: 0.9894\n"
          ],
          "name": "stdout"
        },
        {
          "output_type": "execute_result",
          "data": {
            "text/plain": [
              "<keras.callbacks.History at 0x7ff2dc7ca4e0>"
            ]
          },
          "metadata": {
            "tags": []
          },
          "execution_count": 27
        }
      ]
    }
  ]
}